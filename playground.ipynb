{
 "cells": [
  {
   "cell_type": "code",
   "execution_count": null,
   "metadata": {
    "metadata": {}
   },
   "outputs": [],
   "source": [
    "from src.app import App\n",
    "from src.obj.omdb_response import get_by_title"
   ]
  },
  {
   "cell_type": "code",
   "execution_count": 2,
   "metadata": {
    "metadata": {}
   },
   "outputs": [],
   "source": [
    "app = App()"
   ]
  },
  {
   "cell_type": "code",
   "execution_count": 3,
   "metadata": {
    "metadata": {}
   },
   "outputs": [],
   "source": [
    "ents = App.load_entries()"
   ]
  },
  {
   "cell_type": "markdown",
   "metadata": {},
   "source": [
    "## Comparing my mean rating with the IMDB rating"
   ]
  },
  {
   "cell_type": "code",
   "execution_count": null,
   "metadata": {},
   "outputs": [],
   "source": [
    "import plotly.graph_objects as go\n",
    "from tqdm import tqdm"
   ]
  },
  {
   "cell_type": "code",
   "execution_count": null,
   "metadata": {},
   "outputs": [],
   "source": [
    "db_results = {}\n",
    "\n",
    "for group in tqdm(app.get_groups()):\n",
    "    db_res = get_by_title(group.title)\n",
    "    db_results[group.title] = (group, db_res)"
   ]
  },
  {
   "cell_type": "code",
   "execution_count": null,
   "metadata": {},
   "outputs": [],
   "source": [
    "my_ratings = []\n",
    "imdb_ratings = []\n",
    "titles = []\n",
    "\n",
    "\n",
    "for title, res in db_results.items():\n",
    "    group, db_res = res\n",
    "    if db_res is None:\n",
    "        continue\n",
    "    if db_res.imdb_rating is None:\n",
    "        print(f\"IMDB rating is None for {title}\")\n",
    "        continue\n",
    "    imdb_ratings.append(db_res.imdb_rating)\n",
    "    my_ratings.append(group.mean_rating)\n",
    "    titles.append(title)"
   ]
  },
  {
   "cell_type": "code",
   "execution_count": 41,
   "metadata": {},
   "outputs": [],
   "source": [
    "def best_fit(x_coors, y_coors):\n",
    "    assert (n := len(x_coors)) == len(y_coors)\n",
    "    xbar = sum(x_coors) / len(x_coors)\n",
    "    ybar = sum(y_coors) / len(y_coors)\n",
    "\n",
    "    numer = sum([xi * yi for xi, yi in zip(x_coors, y_coors)]) - n * xbar * ybar\n",
    "    denum = sum([xi**2 for xi in x_coors]) - n * xbar**2\n",
    "\n",
    "    b = numer / denum\n",
    "    a = ybar - b * xbar\n",
    "\n",
    "    return a, b"
   ]
  },
  {
   "cell_type": "code",
   "execution_count": 42,
   "metadata": {},
   "outputs": [],
   "source": [
    "a, b = best_fit(imdb_ratings, my_ratings)\n",
    "x_vals = [min(imdb_ratings) - 1, max(imdb_ratings) + 1]\n",
    "y_vals = [a + b * x for x in x_vals]"
   ]
  },
  {
   "cell_type": "code",
   "execution_count": 44,
   "metadata": {},
   "outputs": [
    {
     "data": {
      "application/vnd.plotly.v1+json": {
       "config": {
        "plotlyServerURL": "https://plot.ly"
       },
       "data": [
        {
         "mode": "markers",
         "text": [
          "Avatar: The Last Airbender",
          "The Truman Show",
          "Parasite",
          "The Substance",
          "Cloud Atlas",
          "Normal People",
          "Knives Out",
          "Better Call Saul",
          "La La Land",
          "Breaking Bad",
          "Coco",
          "Prestige",
          "Grand Budapest Hotel",
          "Klaus",
          "Edge of Tomorrow",
          "Three Billboards Outside Ebbing, Missouri",
          "Bohemian Rhapsody",
          "Captain Fantastic",
          "Fleabag",
          "Perfume: The Story of a Murderer",
          "Green Book",
          "Inglourious Basterds",
          "Don't Look Up",
          "Django Unchained",
          "Gentlemen",
          "About Time",
          "Enola Holmes 2",
          "Severance",
          "The Towering Inferno",
          "Ex Machina",
          "Anne with an E",
          "Honor Society",
          "Birdman",
          "Gone Girl",
          "The Theory of Everything",
          "Whiplash",
          "Black Mirror",
          "Fantastic Mr. Fox",
          "The Wave",
          "Back to the Future",
          "The Walk",
          "Enola Holmes",
          "Boyhood",
          "Prisoners",
          "Sex Education",
          "The Nice Guys",
          "Solar Opposites",
          "Ready Player One",
          "The Girl with the Dragon Tattoo",
          "11/22/63",
          "Her",
          "Little Women",
          "The Notebook",
          "Moonrise Kingdom",
          "House of the Dragon",
          "Puss in Boots: The Last Wish",
          "Amadeus",
          "Jojo Rabbit",
          "Nimona",
          "Baby Reindeer",
          "Seven",
          "The Menu",
          "Catch Me If You Can",
          "Ratatouille",
          "Castle in the Sky",
          "Game of Thrones",
          "Harry Potter and the Prisoner of Azkaban",
          "Harry Potter and the Sorcerer's Stone",
          "Intouchables",
          "Isle of Dogs",
          "Life of Pi",
          "Lion",
          "Sherlock",
          "Shrek 2",
          "The Great Gatsby",
          "Marriage Story",
          "The Greatest Showman",
          "BoJack Horseman",
          "The Help",
          "Navalny",
          "Blue Eye Samurai",
          "Arrival",
          "Inside Out 2",
          "Brooklyn",
          "Pulp Fiction",
          "Eternal Sunshine of the Spotless Mind",
          "The Queen's Gambit",
          "Midnight in Paris",
          "Misery",
          "Mr. Nobody",
          "Rick and Morty",
          "Slumdog Millionaire",
          "The Shawshank Redemption",
          "What Happened to Monday",
          "The Lion King",
          "The Shape of Water",
          "Scent of a Woman",
          "The Great",
          "The Game",
          "Pride",
          "Scott Pilgrim vs. the World",
          "Harry Potter and the Half-Blood Prince",
          "Corpse Bride",
          "Crazy, Stupid, Love",
          "Eddie the Eagle",
          "Hacksaw Ridge",
          "Hot Fuzz",
          "Howl's Moving Castle",
          "Irrational Man",
          "Princess Mononoke",
          "Reservoir Dogs",
          "Se7en",
          "Spider-Man: Into the Spider-Verse",
          "The Matrix",
          "The Wolf of Wall Street",
          "This Is Going to Hurt",
          "Whisper of the Heart",
          "Love, Death & Robots",
          "Shaun of the Dead",
          "Call Me by Your Name",
          "Soul",
          "Yellowjackets",
          "Anora",
          "Shogun",
          "How to Train Your Dragon",
          "Kung Fu Panda",
          "Kung Fu Panda 2",
          "Ready or Not",
          "The Handmaiden",
          "Swimming Pool",
          "Lady Bird",
          "Berlin Syndrome",
          "Coraline",
          "Guardians of the Galaxy",
          "I, Tonya",
          "Panic Room",
          "Rocketman",
          "Saw",
          "Sleuth",
          "Spirited Away",
          "The Age of Adaline",
          "The Hateful Eight",
          "The Man from U.N.C.L.E.",
          "True Detective",
          "Legend of the Seeker",
          "Baby Driver",
          "Wednesday",
          "Avatar: The Way of Water",
          "Love, Actually",
          "Serendipity",
          "Eyes Wide Shut",
          "Goodfellas",
          "The Wonderful Story of Henry Sugar",
          "Swiss Army Man",
          "Hercules",
          "Boy Erased",
          "Harry Potter and the Chamber of Secrets",
          "Hot Summer Nights",
          "(500) Days of Summer",
          "Bird Box",
          "Dead Poets Society",
          "Inside Out",
          "Loving Vincent",
          "Room",
          "Shrek",
          "Snatch",
          "The Man Who Knew Infinity",
          "The Pirates!",
          "The Social network",
          "Death at a Funeral",
          "Groundhog Day",
          "Squid Game",
          "House",
          "Barbie",
          "Impulse",
          "Atlantis: The Lost Empire",
          "Blink Twice",
          "The Dreamers",
          "Charlie and the Chocolate Factory",
          "Wonder Woman",
          "The Office",
          "Harry Potter and the Goblet of Fire",
          "21",
          "A Young Doctor's Notebook",
          "Avengers: Endgame",
          "Equilibrium",
          "Finding Nemo",
          "Nightcrawler",
          "Puss in Boots",
          "The Disaster Artist",
          "Avatar",
          "Blade Runner",
          "The Northman",
          "The White Lotus",
          "Pantheon",
          "Interstellar",
          "Chinatown",
          "Emma",
          "Avengers: Infinity War",
          "In Time",
          "Kiki's Delivery Service",
          "Leon",
          "Madagascar",
          "Magic in the Moonlight",
          "Minority Report",
          "Rio",
          "Spider-Man",
          "Spider-Man: Homecoming",
          "The End of the F...ing World",
          "The Limehouse Golem",
          "The Silence of the Lambs",
          "Zathura: A Space Adventure",
          "Maleficent",
          "Futurama",
          "The Lord of the Rings",
          "Last Night in Soho",
          "Mary Shelley",
          "Chernobyl",
          "Spider-Man: No Way Home",
          "Blind Willow, Sleeping Woman",
          "Oppenheimer",
          "Nerve",
          "A Rainy Day in New York",
          "Despicable Me",
          "El Camino: A Breaking Bad Movie",
          "Frozen",
          "How to Train Your Dragon 2",
          "Kick-Ass",
          "Monsters, Inc.",
          "Over the Garden Wall",
          "Requiem for a Dream",
          "Spider-Man 2",
          "Up",
          "Shrek 4",
          "Sense and Sensibility",
          "Madagascar 2",
          "Happy Death Day",
          "Madagascar 3",
          "Titanic",
          "Odd Taxi",
          "Cloudy with a Chance of Meatballs",
          "Crimson Peak",
          "Forrest Gump",
          "Goosebumps",
          "Song of the Sea",
          "The Boy in the Striped Pajamas",
          "The Curious Case of Benjamin Button",
          "The Physician",
          "The Secret of Kells",
          "Zodiac",
          "Dota: Dragon's Blood",
          "Superbad",
          "Pacific Rim",
          "Midsommar",
          "Sherlock Holmes",
          "The Royal Tenenbaums",
          "1917",
          "47 Ronin",
          "A Clockwork Orange",
          "A Quiet Place",
          "And Then There Were None",
          "Ant-Man",
          "Atonement",
          "Bridge to Terabithia",
          "Captain America",
          "Chicago",
          "Demolition",
          "Fantastic Beasts and Where to Find Them",
          "Favorite",
          "Gattaca",
          "Gladiator",
          "Hard Candy",
          "Kubo and the Two Strings",
          "Kung Fu Panda 3",
          "Last Night",
          "Matilde",
          "Me Before You",
          "Miss Peregrine's Home for Peculiar Children",
          "Miss Pettigrew Lives for a Day",
          "Now You See Me",
          "Now You See Me 2",
          "Passengers",
          "Penelope",
          "Pirates of the Caribbean: Dead Man's Chest",
          "Pride and Prejudice",
          "Rushmore",
          "Spider-Man: Far from Home",
          "Tangled",
          "The Butterfly Effect",
          "The Invention of Lying",
          "The Kids Are All Right",
          "The King's Speech",
          "The world's end",
          "Wuthering Heights",
          "X-Men Origins: Wolverine",
          "Yesterday",
          "Zootopia",
          "The Tale of the Princess Kaguya",
          "The Spiderwick Chronicles",
          "Weathering With You",
          "The Wind Rises",
          "It",
          "The Shining",
          "Doctor Strange",
          "Get Out",
          "Witness for the Prosecution",
          "The Family Man",
          "Casino",
          "The Watcher",
          "Mad Max",
          "Casino Royale",
          "Burning",
          "Weird: The Al Yankovic Story",
          "Daredevil",
          "The Judge",
          "Once Upon a Time... in Hollywood",
          "Beauty and the Beast",
          "Iron Man",
          "Juno",
          "Monsters University",
          "The Amazing Spider-Man",
          "Stranger Things",
          "Scream: The TV Series",
          "Jungle",
          "Rio 2",
          "Cloudy with a Chance of Meatballs 2",
          "Your Name",
          "Matilda",
          "A Monster Calls",
          "Pirates of the Caribbean: Dead Men Tell No Tales",
          "Revenant",
          "Scream",
          "The Amazing Spider-Man 2",
          "The Edge of Seventeen",
          "We're the Millers",
          "The Starving Games",
          "Chloe",
          "Gulliver's Travels",
          "Pay It Forward",
          "Spider-Man 3",
          "American Ultra",
          "Palm Springs",
          "The Fifth Element",
          "The Simpsons Movie",
          "Everything Everywhere All at Once",
          "Black Panther",
          "Suspect",
          "The Witch",
          "EuroTrip",
          "Alice in Wonderland",
          "Lucy",
          "The Cabin in the Woods",
          "Victor Frankenstein",
          "Jeune & Jolie",
          "Turbo",
          "Real Steel",
          "The Fault in Our Stars",
          "The Perks of Being a Wallflower",
          "Cube",
          "Fifty Shades of Grey",
          "Babyteeth",
          "Ballerina",
          "Brave",
          "CODA",
          "Deadpool",
          "Deadpool 2",
          "Despicable Me 2",
          "Fifty Shades of Black",
          "Idiocracy",
          "Kingsman: The Secret Service",
          "Me and Earl and the Dying Girl",
          "Noah",
          "The DUFF",
          "The Girl on the Train",
          "The Hunger Games",
          "The Lobster",
          "The Maze Runner",
          "The Shamer's Daughter",
          "Thelma",
          "War Dogs",
          "Zombieland: Double Tap",
          "Why Him?",
          "Nomadland",
          "A Beautiful Mind",
          "American Beauty",
          "She's the Man",
          "22 Jump Street",
          "The Terminal",
          "Oldboy",
          "If I Stay",
          "Limitless",
          "Zombieland",
          "Paul",
          "Twilight",
          "Under the Skin",
          "Les Miserables",
          "Split",
          "Warcraft",
          "Jimmy Vestvood: Amerikan Hero",
          "The Hunger Games: Catching Fire",
          "The Room",
          "21 Jump Street",
          "Ted",
          "This Is the End",
          "Black Widow",
          "Fight Club",
          "Lights Out",
          "Movie 43",
          "Ouija",
          "Pirates of the Caribbean: At World's End",
          "Twilight 2",
          "Midnight Sun",
          "Drive",
          "Mulholland Drive",
          "Dictator",
          "Ouija: Origin of Evil",
          "The Box",
          "Jumanji: Welcome to the Jungle",
          "Deadpool & Wolverine",
          "Silent Hill",
          "The Visit",
          "Twilight 3",
          "The Last Airbender"
         ],
         "type": "scatter",
         "x": [
          9.3,
          8.2,
          8.5,
          7.3,
          7.4,
          8.4,
          7.9,
          9,
          8,
          9.5,
          8.4,
          5.6,
          8.1,
          8.2,
          7.9,
          8.1,
          7.9,
          7.8,
          8.7,
          7.5,
          8.2,
          8.4,
          7.2,
          8.5,
          6.2,
          7.8,
          6.8,
          8.7,
          7,
          7.7,
          8.6,
          6.5,
          6.7,
          8.1,
          7.7,
          8.5,
          8.7,
          7.9,
          7.6,
          8.5,
          7.3,
          6.6,
          7.9,
          8.2,
          8.2,
          7.4,
          7.9,
          7.4,
          7.8,
          8.1,
          8,
          7.8,
          7.8,
          7.8,
          8.3,
          7.8,
          8.4,
          7.9,
          7.5,
          7.7,
          8.6,
          7.2,
          8.1,
          8.1,
          8,
          9.2,
          7.9,
          7.7,
          8.1,
          7.8,
          7.9,
          8,
          9.1,
          7.4,
          7.2,
          7.9,
          7.5,
          8.8,
          8.1,
          7.7,
          8.7,
          7.9,
          7.6,
          7.5,
          8.9,
          8.3,
          8.5,
          7.6,
          7.8,
          7.7,
          9.1,
          8,
          9.3,
          6.8,
          8.5,
          7.3,
          8,
          8.1,
          7.7,
          7.8,
          7.5,
          7.6,
          7.4,
          7.4,
          7.3,
          8.1,
          7.8,
          8.2,
          6.6,
          8.3,
          8.3,
          8.6,
          8.4,
          8.7,
          8.2,
          8.4,
          7.8,
          8.4,
          7.9,
          7.8,
          8,
          7.8,
          7.8,
          8.6,
          8.1,
          7.6,
          7.3,
          6.9,
          8.1,
          6.7,
          7.4,
          6.3,
          7.8,
          8,
          7.5,
          6.8,
          7.3,
          7.6,
          7.9,
          8.6,
          7.2,
          7.8,
          7.2,
          8.9,
          7.6,
          7.5,
          8,
          7.5,
          7.6,
          6.8,
          7.5,
          8.7,
          7.4,
          6.9,
          7.3,
          6.9,
          7.4,
          6.4,
          7.7,
          6.6,
          8.1,
          8.1,
          7.8,
          8.1,
          7.9,
          8.2,
          7.2,
          6.7,
          7.8,
          7.3,
          8,
          8,
          8.7,
          6.8,
          7.4,
          6.9,
          6.5,
          7.1,
          6.7,
          7.3,
          9,
          7.7,
          6.8,
          7.7,
          8.4,
          7.3,
          8.2,
          7.8,
          6.6,
          7.3,
          7.9,
          8.1,
          7,
          8,
          8.4,
          8.7,
          8.1,
          6.6,
          8.4,
          6.7,
          7.8,
          7.3,
          6.9,
          6.5,
          7.6,
          6.9,
          7.4,
          7.4,
          8,
          6.3,
          8.6,
          6.3,
          6.9,
          8.5,
          6.2,
          7,
          6.4,
          9.3,
          8.2,
          7.1,
          8.3,
          6.5,
          6.4,
          7.6,
          7.1,
          7.4,
          7.8,
          7.6,
          8.1,
          8.7,
          8.3,
          7.5,
          8.3,
          6.3,
          7.7,
          6.1,
          6.6,
          6.8,
          7.9,
          8.4,
          6.9,
          6.5,
          8.8,
          6.3,
          8,
          7.7,
          7.8,
          7.2,
          7.5,
          7.7,
          7.7,
          7.6,
          6.9,
          7.1,
          7.6,
          7.6,
          8.2,
          6.2,
          8.2,
          7.5,
          7.8,
          7.2,
          7.8,
          7.2,
          3.2,
          7.2,
          7,
          7.2,
          5.1,
          7.7,
          8.5,
          7,
          7.7,
          7.1,
          6.5,
          7.2,
          7.4,
          6.7,
          7,
          7.2,
          6.4,
          7,
          6.7,
          7.4,
          8.8,
          7.6,
          7.4,
          7.7,
          7.6,
          6.4,
          7,
          8,
          6.9,
          7.5,
          6.5,
          6.8,
          8,
          8,
          6.5,
          7.5,
          7.8,
          7.3,
          8.4,
          7.5,
          7.8,
          8.4,
          6.8,
          8.2,
          6.5,
          6.8,
          8,
          7.4,
          6.9,
          8.6,
          7.4,
          7.6,
          8,
          7.9,
          7.4,
          7.2,
          6.9,
          8.7,
          7,
          6.7,
          6.3,
          6.3,
          8.9,
          7,
          7.4,
          6.5,
          7.9,
          7.4,
          6.6,
          7.3,
          7,
          3.2,
          6.3,
          4.9,
          7.2,
          6.3,
          6.1,
          7.4,
          7.6,
          7.3,
          7.8,
          7.3,
          6.6,
          7,
          6.6,
          6.4,
          6.4,
          7,
          5.9,
          6.5,
          6.4,
          7.1,
          7.6,
          7.9,
          7.1,
          4.2,
          7.2,
          6.3,
          7.1,
          8,
          8,
          7.6,
          7.3,
          3.5,
          6.5,
          7.7,
          7.7,
          5.8,
          6.4,
          6.5,
          7.2,
          7.1,
          6.8,
          6,
          6.9,
          7.1,
          6.7,
          6.2,
          7.3,
          8.2,
          8.3,
          6.4,
          7,
          7.4,
          8.3,
          6.7,
          7.4,
          7.5,
          6.9,
          5.3,
          6.3,
          7.3,
          7.3,
          6.7,
          5.1,
          7.5,
          3.6,
          7.2,
          6.9,
          6.6,
          6.6,
          8.8,
          6.3,
          4.4,
          4.5,
          7.1,
          6.2,
          6.6,
          7.8,
          7.9,
          4.1,
          6.2,
          5.6,
          7,
          8,
          6.5,
          6.3,
          5.6,
          4
         ],
         "y": [
          8.84,
          8.32,
          8.3,
          8.3,
          8.266666666666666,
          8.25,
          8.166666666666666,
          8.149999999999999,
          8.083333333333334,
          8.016666666666667,
          7.9,
          7.9,
          7.866666666666667,
          7.8,
          7.7,
          7.65,
          7.6,
          7.550000000000001,
          7.533333333333333,
          7.5,
          7.5,
          7.5,
          7.45,
          7.45,
          7.4,
          7.4,
          7.4,
          7.4,
          7.38,
          7.38,
          7.35,
          7.34,
          7.3,
          7.3,
          7.3,
          7.3,
          7.283333333333333,
          7.25,
          7.24,
          7.233333333333333,
          7.2,
          7.2,
          7.175,
          7.15,
          7.15,
          7.15,
          7.15,
          7.15,
          7.125,
          7.1,
          7.1,
          7.1,
          7.1,
          7.1,
          7.1,
          7.1,
          7.1,
          7.1,
          7.1,
          7.1,
          7.074999999999999,
          7.050000000000001,
          7.05,
          7.05,
          7,
          7,
          7,
          7,
          7,
          7,
          7,
          7,
          7,
          7,
          7,
          7,
          7,
          7,
          7,
          7,
          7,
          7,
          7,
          7,
          6.99,
          6.95,
          6.949999999999999,
          6.9,
          6.9,
          6.9,
          6.9,
          6.9,
          6.9,
          6.9,
          6.9,
          6.9,
          6.9,
          6.866666666666666,
          6.85,
          6.85,
          6.826666666666667,
          6.825,
          6.8,
          6.8,
          6.8,
          6.8,
          6.8,
          6.8,
          6.8,
          6.8,
          6.8,
          6.8,
          6.8,
          6.8,
          6.8,
          6.8,
          6.8,
          6.8,
          6.8,
          6.8,
          6.8,
          6.8,
          6.8,
          6.8,
          6.75,
          6.75,
          6.75,
          6.75,
          6.75,
          6.75,
          6.71,
          6.7,
          6.7,
          6.7,
          6.7,
          6.7,
          6.7,
          6.7,
          6.7,
          6.7,
          6.7,
          6.7,
          6.7,
          6.7,
          6.7,
          6.7,
          6.7,
          6.7,
          6.7,
          6.7,
          6.7,
          6.7,
          6.7,
          6.699999999999999,
          6.65,
          6.6,
          6.6,
          6.6,
          6.5,
          6.5,
          6.5,
          6.5,
          6.5,
          6.5,
          6.5,
          6.5,
          6.5,
          6.5,
          6.5,
          6.5,
          6.5,
          6.5,
          6.5,
          6.5,
          6.5,
          6.5,
          6.5,
          6.5,
          6.45,
          6.45,
          6.45,
          6.449999999999999,
          6.4,
          6.4,
          6.4,
          6.4,
          6.4,
          6.4,
          6.4,
          6.4,
          6.4,
          6.4,
          6.4,
          6.4,
          6.4,
          6.37,
          6.35,
          6.35,
          6.3,
          6.3,
          6.3,
          6.3,
          6.3,
          6.3,
          6.3,
          6.3,
          6.3,
          6.3,
          6.3,
          6.3,
          6.3,
          6.3,
          6.3,
          6.3,
          6.3,
          6.3,
          6.3,
          6.3,
          6.3,
          6.3,
          6.3,
          6.25,
          6.2,
          6.2,
          6.2,
          6.2,
          6.2,
          6.2,
          6.2,
          6.2,
          6.2,
          6.2,
          6.2,
          6.2,
          6.2,
          6.199999999999999,
          6.15,
          6.15,
          6.15,
          6.12,
          6.1,
          6.1,
          6.1,
          6.1,
          6.1,
          6.1,
          6.1,
          6.1,
          6.1,
          6.1,
          6.1,
          6.1,
          6.1,
          6.1,
          6.1,
          6.1,
          6,
          6,
          6,
          6,
          6,
          6,
          6,
          6,
          6,
          6,
          6,
          6,
          6,
          6,
          6,
          6,
          6,
          6,
          6,
          6,
          6,
          6,
          6,
          6,
          6,
          6,
          6,
          6,
          6,
          6,
          6,
          6,
          6,
          6,
          6,
          6,
          6,
          6,
          6,
          6,
          6,
          6,
          6,
          6,
          6,
          6,
          6,
          6,
          6,
          6,
          6,
          6,
          6,
          6,
          6,
          5.95,
          5.94,
          5.9,
          5.9,
          5.9,
          5.9,
          5.8,
          5.8,
          5.8,
          5.8,
          5.8,
          5.8,
          5.8,
          5.8,
          5.7,
          5.7,
          5.65,
          5.5,
          5.5,
          5.5,
          5.5,
          5.5,
          5.5,
          5.5,
          5.48,
          5.4,
          5.4,
          5.4,
          5.4,
          5.4,
          5.4,
          5.3,
          5.3,
          5.3,
          5.3,
          5.3,
          5.3,
          5.275,
          5.2,
          5.2,
          5.2,
          5.2,
          5.2,
          5.2,
          5.1,
          5.1,
          5.1,
          5.1,
          5.1,
          5,
          5,
          5,
          5,
          5,
          5,
          5,
          5,
          5,
          5,
          5,
          5,
          5,
          5,
          5,
          5,
          5,
          5,
          5,
          5,
          5,
          5,
          5,
          5,
          5,
          5,
          4.9,
          4.9,
          4.9,
          4.8,
          4.8,
          4.7,
          4.7,
          4.6,
          4.6,
          4.5,
          4.4,
          4.3,
          4.2,
          4.2,
          4.2,
          4.2,
          4.1,
          4.1,
          4.1,
          4,
          4,
          4,
          4,
          4,
          4,
          4,
          4,
          4,
          4,
          3.8,
          3.8,
          3.8,
          3.8,
          3,
          3,
          3,
          3
         ]
        },
        {
         "mode": "lines",
         "name": "best fit line: y = 2.43 + 0.51x",
         "type": "scatter",
         "x": [
          2.2,
          10.5
         ],
         "y": [
          3.544227355779753,
          7.761925405552597
         ]
        }
       ],
       "layout": {
        "legend": {
         "orientation": "v",
         "traceorder": "normal",
         "x": 0,
         "y": 1
        },
        "margin": {
         "b": 10,
         "l": 10,
         "r": 10,
         "t": 30
        },
        "template": {
         "data": {
          "bar": [
           {
            "error_x": {
             "color": "#f2f5fa"
            },
            "error_y": {
             "color": "#f2f5fa"
            },
            "marker": {
             "line": {
              "color": "rgb(17,17,17)",
              "width": 0.5
             },
             "pattern": {
              "fillmode": "overlay",
              "size": 10,
              "solidity": 0.2
             }
            },
            "type": "bar"
           }
          ],
          "barpolar": [
           {
            "marker": {
             "line": {
              "color": "rgb(17,17,17)",
              "width": 0.5
             },
             "pattern": {
              "fillmode": "overlay",
              "size": 10,
              "solidity": 0.2
             }
            },
            "type": "barpolar"
           }
          ],
          "carpet": [
           {
            "aaxis": {
             "endlinecolor": "#A2B1C6",
             "gridcolor": "#506784",
             "linecolor": "#506784",
             "minorgridcolor": "#506784",
             "startlinecolor": "#A2B1C6"
            },
            "baxis": {
             "endlinecolor": "#A2B1C6",
             "gridcolor": "#506784",
             "linecolor": "#506784",
             "minorgridcolor": "#506784",
             "startlinecolor": "#A2B1C6"
            },
            "type": "carpet"
           }
          ],
          "choropleth": [
           {
            "colorbar": {
             "outlinewidth": 0,
             "ticks": ""
            },
            "type": "choropleth"
           }
          ],
          "contour": [
           {
            "colorbar": {
             "outlinewidth": 0,
             "ticks": ""
            },
            "colorscale": [
             [
              0,
              "#0d0887"
             ],
             [
              0.1111111111111111,
              "#46039f"
             ],
             [
              0.2222222222222222,
              "#7201a8"
             ],
             [
              0.3333333333333333,
              "#9c179e"
             ],
             [
              0.4444444444444444,
              "#bd3786"
             ],
             [
              0.5555555555555556,
              "#d8576b"
             ],
             [
              0.6666666666666666,
              "#ed7953"
             ],
             [
              0.7777777777777778,
              "#fb9f3a"
             ],
             [
              0.8888888888888888,
              "#fdca26"
             ],
             [
              1,
              "#f0f921"
             ]
            ],
            "type": "contour"
           }
          ],
          "contourcarpet": [
           {
            "colorbar": {
             "outlinewidth": 0,
             "ticks": ""
            },
            "type": "contourcarpet"
           }
          ],
          "heatmap": [
           {
            "colorbar": {
             "outlinewidth": 0,
             "ticks": ""
            },
            "colorscale": [
             [
              0,
              "#0d0887"
             ],
             [
              0.1111111111111111,
              "#46039f"
             ],
             [
              0.2222222222222222,
              "#7201a8"
             ],
             [
              0.3333333333333333,
              "#9c179e"
             ],
             [
              0.4444444444444444,
              "#bd3786"
             ],
             [
              0.5555555555555556,
              "#d8576b"
             ],
             [
              0.6666666666666666,
              "#ed7953"
             ],
             [
              0.7777777777777778,
              "#fb9f3a"
             ],
             [
              0.8888888888888888,
              "#fdca26"
             ],
             [
              1,
              "#f0f921"
             ]
            ],
            "type": "heatmap"
           }
          ],
          "heatmapgl": [
           {
            "colorbar": {
             "outlinewidth": 0,
             "ticks": ""
            },
            "colorscale": [
             [
              0,
              "#0d0887"
             ],
             [
              0.1111111111111111,
              "#46039f"
             ],
             [
              0.2222222222222222,
              "#7201a8"
             ],
             [
              0.3333333333333333,
              "#9c179e"
             ],
             [
              0.4444444444444444,
              "#bd3786"
             ],
             [
              0.5555555555555556,
              "#d8576b"
             ],
             [
              0.6666666666666666,
              "#ed7953"
             ],
             [
              0.7777777777777778,
              "#fb9f3a"
             ],
             [
              0.8888888888888888,
              "#fdca26"
             ],
             [
              1,
              "#f0f921"
             ]
            ],
            "type": "heatmapgl"
           }
          ],
          "histogram": [
           {
            "marker": {
             "pattern": {
              "fillmode": "overlay",
              "size": 10,
              "solidity": 0.2
             }
            },
            "type": "histogram"
           }
          ],
          "histogram2d": [
           {
            "colorbar": {
             "outlinewidth": 0,
             "ticks": ""
            },
            "colorscale": [
             [
              0,
              "#0d0887"
             ],
             [
              0.1111111111111111,
              "#46039f"
             ],
             [
              0.2222222222222222,
              "#7201a8"
             ],
             [
              0.3333333333333333,
              "#9c179e"
             ],
             [
              0.4444444444444444,
              "#bd3786"
             ],
             [
              0.5555555555555556,
              "#d8576b"
             ],
             [
              0.6666666666666666,
              "#ed7953"
             ],
             [
              0.7777777777777778,
              "#fb9f3a"
             ],
             [
              0.8888888888888888,
              "#fdca26"
             ],
             [
              1,
              "#f0f921"
             ]
            ],
            "type": "histogram2d"
           }
          ],
          "histogram2dcontour": [
           {
            "colorbar": {
             "outlinewidth": 0,
             "ticks": ""
            },
            "colorscale": [
             [
              0,
              "#0d0887"
             ],
             [
              0.1111111111111111,
              "#46039f"
             ],
             [
              0.2222222222222222,
              "#7201a8"
             ],
             [
              0.3333333333333333,
              "#9c179e"
             ],
             [
              0.4444444444444444,
              "#bd3786"
             ],
             [
              0.5555555555555556,
              "#d8576b"
             ],
             [
              0.6666666666666666,
              "#ed7953"
             ],
             [
              0.7777777777777778,
              "#fb9f3a"
             ],
             [
              0.8888888888888888,
              "#fdca26"
             ],
             [
              1,
              "#f0f921"
             ]
            ],
            "type": "histogram2dcontour"
           }
          ],
          "mesh3d": [
           {
            "colorbar": {
             "outlinewidth": 0,
             "ticks": ""
            },
            "type": "mesh3d"
           }
          ],
          "parcoords": [
           {
            "line": {
             "colorbar": {
              "outlinewidth": 0,
              "ticks": ""
             }
            },
            "type": "parcoords"
           }
          ],
          "pie": [
           {
            "automargin": true,
            "type": "pie"
           }
          ],
          "scatter": [
           {
            "marker": {
             "line": {
              "color": "#283442"
             }
            },
            "type": "scatter"
           }
          ],
          "scatter3d": [
           {
            "line": {
             "colorbar": {
              "outlinewidth": 0,
              "ticks": ""
             }
            },
            "marker": {
             "colorbar": {
              "outlinewidth": 0,
              "ticks": ""
             }
            },
            "type": "scatter3d"
           }
          ],
          "scattercarpet": [
           {
            "marker": {
             "colorbar": {
              "outlinewidth": 0,
              "ticks": ""
             }
            },
            "type": "scattercarpet"
           }
          ],
          "scattergeo": [
           {
            "marker": {
             "colorbar": {
              "outlinewidth": 0,
              "ticks": ""
             }
            },
            "type": "scattergeo"
           }
          ],
          "scattergl": [
           {
            "marker": {
             "line": {
              "color": "#283442"
             }
            },
            "type": "scattergl"
           }
          ],
          "scattermapbox": [
           {
            "marker": {
             "colorbar": {
              "outlinewidth": 0,
              "ticks": ""
             }
            },
            "type": "scattermapbox"
           }
          ],
          "scatterpolar": [
           {
            "marker": {
             "colorbar": {
              "outlinewidth": 0,
              "ticks": ""
             }
            },
            "type": "scatterpolar"
           }
          ],
          "scatterpolargl": [
           {
            "marker": {
             "colorbar": {
              "outlinewidth": 0,
              "ticks": ""
             }
            },
            "type": "scatterpolargl"
           }
          ],
          "scatterternary": [
           {
            "marker": {
             "colorbar": {
              "outlinewidth": 0,
              "ticks": ""
             }
            },
            "type": "scatterternary"
           }
          ],
          "surface": [
           {
            "colorbar": {
             "outlinewidth": 0,
             "ticks": ""
            },
            "colorscale": [
             [
              0,
              "#0d0887"
             ],
             [
              0.1111111111111111,
              "#46039f"
             ],
             [
              0.2222222222222222,
              "#7201a8"
             ],
             [
              0.3333333333333333,
              "#9c179e"
             ],
             [
              0.4444444444444444,
              "#bd3786"
             ],
             [
              0.5555555555555556,
              "#d8576b"
             ],
             [
              0.6666666666666666,
              "#ed7953"
             ],
             [
              0.7777777777777778,
              "#fb9f3a"
             ],
             [
              0.8888888888888888,
              "#fdca26"
             ],
             [
              1,
              "#f0f921"
             ]
            ],
            "type": "surface"
           }
          ],
          "table": [
           {
            "cells": {
             "fill": {
              "color": "#506784"
             },
             "line": {
              "color": "rgb(17,17,17)"
             }
            },
            "header": {
             "fill": {
              "color": "#2a3f5f"
             },
             "line": {
              "color": "rgb(17,17,17)"
             }
            },
            "type": "table"
           }
          ]
         },
         "layout": {
          "annotationdefaults": {
           "arrowcolor": "#f2f5fa",
           "arrowhead": 0,
           "arrowwidth": 1
          },
          "autotypenumbers": "strict",
          "coloraxis": {
           "colorbar": {
            "outlinewidth": 0,
            "ticks": ""
           }
          },
          "colorscale": {
           "diverging": [
            [
             0,
             "#8e0152"
            ],
            [
             0.1,
             "#c51b7d"
            ],
            [
             0.2,
             "#de77ae"
            ],
            [
             0.3,
             "#f1b6da"
            ],
            [
             0.4,
             "#fde0ef"
            ],
            [
             0.5,
             "#f7f7f7"
            ],
            [
             0.6,
             "#e6f5d0"
            ],
            [
             0.7,
             "#b8e186"
            ],
            [
             0.8,
             "#7fbc41"
            ],
            [
             0.9,
             "#4d9221"
            ],
            [
             1,
             "#276419"
            ]
           ],
           "sequential": [
            [
             0,
             "#0d0887"
            ],
            [
             0.1111111111111111,
             "#46039f"
            ],
            [
             0.2222222222222222,
             "#7201a8"
            ],
            [
             0.3333333333333333,
             "#9c179e"
            ],
            [
             0.4444444444444444,
             "#bd3786"
            ],
            [
             0.5555555555555556,
             "#d8576b"
            ],
            [
             0.6666666666666666,
             "#ed7953"
            ],
            [
             0.7777777777777778,
             "#fb9f3a"
            ],
            [
             0.8888888888888888,
             "#fdca26"
            ],
            [
             1,
             "#f0f921"
            ]
           ],
           "sequentialminus": [
            [
             0,
             "#0d0887"
            ],
            [
             0.1111111111111111,
             "#46039f"
            ],
            [
             0.2222222222222222,
             "#7201a8"
            ],
            [
             0.3333333333333333,
             "#9c179e"
            ],
            [
             0.4444444444444444,
             "#bd3786"
            ],
            [
             0.5555555555555556,
             "#d8576b"
            ],
            [
             0.6666666666666666,
             "#ed7953"
            ],
            [
             0.7777777777777778,
             "#fb9f3a"
            ],
            [
             0.8888888888888888,
             "#fdca26"
            ],
            [
             1,
             "#f0f921"
            ]
           ]
          },
          "colorway": [
           "#636efa",
           "#EF553B",
           "#00cc96",
           "#ab63fa",
           "#FFA15A",
           "#19d3f3",
           "#FF6692",
           "#B6E880",
           "#FF97FF",
           "#FECB52"
          ],
          "font": {
           "color": "#f2f5fa"
          },
          "geo": {
           "bgcolor": "rgb(17,17,17)",
           "lakecolor": "rgb(17,17,17)",
           "landcolor": "rgb(17,17,17)",
           "showlakes": true,
           "showland": true,
           "subunitcolor": "#506784"
          },
          "hoverlabel": {
           "align": "left"
          },
          "hovermode": "closest",
          "mapbox": {
           "style": "dark"
          },
          "paper_bgcolor": "rgb(17,17,17)",
          "plot_bgcolor": "rgb(17,17,17)",
          "polar": {
           "angularaxis": {
            "gridcolor": "#506784",
            "linecolor": "#506784",
            "ticks": ""
           },
           "bgcolor": "rgb(17,17,17)",
           "radialaxis": {
            "gridcolor": "#506784",
            "linecolor": "#506784",
            "ticks": ""
           }
          },
          "scene": {
           "xaxis": {
            "backgroundcolor": "rgb(17,17,17)",
            "gridcolor": "#506784",
            "gridwidth": 2,
            "linecolor": "#506784",
            "showbackground": true,
            "ticks": "",
            "zerolinecolor": "#C8D4E3"
           },
           "yaxis": {
            "backgroundcolor": "rgb(17,17,17)",
            "gridcolor": "#506784",
            "gridwidth": 2,
            "linecolor": "#506784",
            "showbackground": true,
            "ticks": "",
            "zerolinecolor": "#C8D4E3"
           },
           "zaxis": {
            "backgroundcolor": "rgb(17,17,17)",
            "gridcolor": "#506784",
            "gridwidth": 2,
            "linecolor": "#506784",
            "showbackground": true,
            "ticks": "",
            "zerolinecolor": "#C8D4E3"
           }
          },
          "shapedefaults": {
           "line": {
            "color": "#f2f5fa"
           }
          },
          "sliderdefaults": {
           "bgcolor": "#C8D4E3",
           "bordercolor": "rgb(17,17,17)",
           "borderwidth": 1,
           "tickwidth": 0
          },
          "ternary": {
           "aaxis": {
            "gridcolor": "#506784",
            "linecolor": "#506784",
            "ticks": ""
           },
           "baxis": {
            "gridcolor": "#506784",
            "linecolor": "#506784",
            "ticks": ""
           },
           "bgcolor": "rgb(17,17,17)",
           "caxis": {
            "gridcolor": "#506784",
            "linecolor": "#506784",
            "ticks": ""
           }
          },
          "title": {
           "x": 0.05
          },
          "updatemenudefaults": {
           "bgcolor": "#506784",
           "borderwidth": 0
          },
          "xaxis": {
           "automargin": true,
           "gridcolor": "#283442",
           "linecolor": "#506784",
           "ticks": "",
           "title": {
            "standoff": 15
           },
           "zerolinecolor": "#283442",
           "zerolinewidth": 2
          },
          "yaxis": {
           "automargin": true,
           "gridcolor": "#283442",
           "linecolor": "#506784",
           "ticks": "",
           "title": {
            "standoff": 15
           },
           "zerolinecolor": "#283442",
           "zerolinewidth": 2
          }
         }
        },
        "title": {
         "text": "my ratings vs IMDB ratings"
        },
        "xaxis": {
         "title": {
          "text": "IMDB rating"
         }
        },
        "yaxis": {
         "title": {
          "text": "My rating"
         }
        }
       }
      }
     },
     "metadata": {},
     "output_type": "display_data"
    }
   ],
   "source": [
    "fig = go.Figure(\n",
    "    data=go.Scatter(y=my_ratings, x=imdb_ratings, mode=\"markers\", text=titles)\n",
    ")\n",
    "fig.add_trace(\n",
    "    go.Scatter(\n",
    "        x=x_vals,\n",
    "        y=y_vals,\n",
    "        mode=\"lines\",\n",
    "        name=f\"best fit line: y = {a:.2f} + {b:.2f}x\",\n",
    "    )\n",
    ")\n",
    "fig.update_layout(\n",
    "    title=\"my ratings vs IMDB ratings\",\n",
    "    xaxis_title=\"IMDB rating\",\n",
    "    yaxis_title=\"My rating\",\n",
    "    margin=dict(l=10, r=10, t=30, b=10),\n",
    "    template=\"plotly_dark\",\n",
    "    legend=dict(x=0, y=1, traceorder=\"normal\", orientation=\"v\"),\n",
    ")\n",
    "fig.show()"
   ]
  },
  {
   "cell_type": "code",
   "execution_count": null,
   "metadata": {},
   "outputs": [],
   "source": []
  },
  {
   "cell_type": "code",
   "execution_count": null,
   "metadata": {},
   "outputs": [],
   "source": []
  },
  {
   "cell_type": "code",
   "execution_count": 5,
   "metadata": {},
   "outputs": [],
   "source": [
    "from src.obj.images_manager import ImagesStore, IMAGES_SERIES_BUCKET_NAME, FOLDER_NAME"
   ]
  },
  {
   "cell_type": "code",
   "execution_count": 18,
   "metadata": {},
   "outputs": [],
   "source": [
    "store = ImagesStore([])"
   ]
  },
  {
   "cell_type": "code",
   "execution_count": 23,
   "metadata": {},
   "outputs": [],
   "source": [
    "response = store._s3.list_objects_v2(\n",
    "            Bucket=IMAGES_SERIES_BUCKET_NAME,\n",
    "            Prefix=FOLDER_NAME + \"/\",\n",
    "        )\n"
   ]
  },
  {
   "cell_type": "code",
   "execution_count": 24,
   "metadata": {},
   "outputs": [],
   "source": [
    "images = response.get(\"Contents\", [])"
   ]
  },
  {
   "cell_type": "code",
   "execution_count": 27,
   "metadata": {},
   "outputs": [
    {
     "name": "stdout",
     "output_type": "stream",
     "text": [
      "343892, 'a4bd608919b2c3af4b34fb84bd864660', movies-series-images/2025-08-22T18:12:23.360630+00:00.png\n",
      "282963, '2807f6dd570ef20ee1b67c0405e4e6c7', movies-series-images/2025-08-22T18:53:39.679834+00:00.png\n",
      "313570, '2578e573c8d611e93809e580e2d0ced1', movies-series-images/2025-08-22T18:57:01.905681+00:00.png\n",
      "319183, 'fb36af9cd99ee83bf9bb0a8459b05b00', movies-series-images/2025-08-22T18:59:39.385849+00:00.png\n",
      "340470, '3b575dfffd0dada94bc19d6b8e90922e', movies-series-images/2025-08-22T19:00:32.033455+00:00.png\n",
      "697048, '30419672f35d13781577ed6ae648d15b', movies-series-images/2025-08-22T19:33:00.072318+00:00.png\n",
      "376597, '6d118e8b46c1b17d435cda8726617b1b', movies-series-images/2025-08-22T19:35:53.564845+00:00.png\n",
      "608664, '4c54b056aaa83c752ec70ec52e40d1c4', movies-series-images/2025-08-22T19:36:52.176472+00:00.png\n",
      "1953469, '92d5466fbe0c4340040afb1b94f10861', movies-series-images/2025-08-22T20:26:26.904004+00:00.png\n",
      "611172, '64c283b9fab665524a1b1ced0d508877', movies-series-images/2025-08-22T20:33:46.508743+00:00.png\n",
      "658369, '75f88af6af78f1f4204228ff9233f56d', movies-series-images/2025-08-22T20:44:32.374082+00:00.png\n",
      "746924, '0a471f5db15c3a1764489b819b9e909e', movies-series-images/2025-08-22T20:51:05.913063+00:00.png\n",
      "256158, '4952840f2d043d6c15b7e025781bea5c', movies-series-images/2025-08-22T21:00:59.976474+00:00.png\n",
      "834939, 'fe8813ec6c64a196865aeb73fb1714f7', movies-series-images/2025-08-22T21:06:40.653334+00:00.png\n",
      "530571, 'dc442c7b30035e5065da0dd4eaf074b1', movies-series-images/2025-08-22T21:10:10.067619+00:00.png\n",
      "1269838, 'c0e3c2d600b82cc864d6f7ede54bc354', movies-series-images/2025-08-22T21:11:13.448235+00:00.png\n",
      "446274, '0c120bc321ef59709ec0e6482903d459', movies-series-images/2025-08-22T21:11:46.661809+00:00.png\n",
      "704765, '54e5410aa519ac6387a8c2a8377402d6', movies-series-images/2025-08-22T21:25:32.260251+00:00.png\n",
      "467858, '0b174f49c9f5130e04078a5a5609e13a', movies-series-images/2025-08-22T21:27:35.042984+00:00.png\n",
      "736022, '394f6626d86f181dad3a55494a044661', movies-series-images/2025-08-22T21:28:21.534690+00:00.png\n",
      "385714, '5bd5c26907e1e8bd31e877674ed7241d', movies-series-images/2025-08-22T21:30:01.952589+00:00.png\n",
      "258109, 'c3d003e595e64ee28d18d46f750f9e0a', movies-series-images/2025-08-22T21:55:00.033185+00:00.png\n",
      "1951300, '8103e8bbba88172dee381f4bf7705bd0', movies-series-images/2025-08-25T18:22:02.431212+00:00.png\n",
      "620172, '643da7e9f972bb80b63a5795fe0e53c7', movies-series-images/2025-08-25T19:43:03.243355+00:00.png\n",
      "548081, '05dda1be36fbbb1acf22ffe34d09acdb', movies-series-images/2025-08-25T19:49:10.040658+00:00.png\n",
      "155098, 'abf10198ee181cb94322b179edddc9b2', movies-series-images/2025-08-25T19:52:09.606900+00:00.png\n",
      "763566, '1bd1b1f1187767f04a8ff31b01921910', movies-series-images/2025-08-26T19:42:04.355581+00:00.png\n",
      "1389878, '055af8a82b92cc80d1644d0b14580b97', movies-series-images/2025-08-26T19:44:59.084437+00:00.png\n",
      "1688754, '34e0506e3cab47e6bb27fe743be2ec29', movies-series-images/2025-08-26T19:46:26.069990+00:00.png\n",
      "334451, '6f3fec6107cc29d9813e7ce9c46a33d2', movies-series-images/2025-08-26T22:34:46.924803+00:00.png\n",
      "582646, 'ed11d17e225318c60dc8fcfe5ee28a0f', movies-series-images/2025-08-26T22:38:26.646346+00:00.png\n",
      "497738, 'd294fb20b31f4577e6f87127fce37ba9', movies-series-images/2025-08-26T22:38:34.450943+00:00.png\n",
      "290485, '603ccb405686cf56c5b9941886b5e25d', movies-series-images/2025-08-26T22:39:29.085536+00:00.png\n",
      "348391, '26e12ff8a10bc6a242111e1c4f780bbf', movies-series-images/2025-08-26T22:39:45.097030+00:00.png\n",
      "467626, '37b83e28abe60836ccbb2fafff8e6882', movies-series-images/2025-08-26T22:40:10.328963+00:00.png\n",
      "4818, 'fd014f3a46e4d34954613b4c6f787a69', movies-series-images/2025-08-26T22:46:26.559099+00:00.png\n",
      "Duplicate image found: movies-series-images/2025-08-26T22:46:30.873983+00:00.png\n"
     ]
    }
   ],
   "source": [
    "seen_etags = set()\n",
    "\n",
    "for image in images:\n",
    "    if image.get(\"ETag\") not in seen_etags:\n",
    "        print(f\"{image.get('Size')}, {image.get('ETag').strip('\"')!r}, {image.get('Key')}\")\n",
    "        seen_etags.add(image.get(\"ETag\"))\n",
    "    else:\n",
    "        print(\"Duplicate image found:\", image.get(\"Key\"))"
   ]
  }
 ],
 "metadata": {
  "kernelspec": {
   "display_name": "moviesdb",
   "language": "python",
   "name": "python3"
  },
  "language_info": {
   "codemirror_mode": {
    "name": "ipython",
    "version": 3
   },
   "file_extension": ".py",
   "mimetype": "text/x-python",
   "name": "python",
   "nbconvert_exporter": "python",
   "pygments_lexer": "ipython3",
   "version": "3.13.3"
  }
 },
 "nbformat": 4,
 "nbformat_minor": 2
}
